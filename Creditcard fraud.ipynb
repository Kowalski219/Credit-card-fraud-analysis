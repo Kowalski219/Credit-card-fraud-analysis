{
 "cells": [
  {
   "attachments": {},
   "cell_type": "markdown",
   "metadata": {},
   "source": [
    "(1) What is the overall distribution of fraudulent transactions in the dataset? What percentage of transactions are fraudulent?\n"
   ]
  },
  {
   "cell_type": "code",
   "execution_count": null,
   "metadata": {
    "vscode": {
     "languageId": "sql"
    }
   },
   "outputs": [],
   "source": [
    "SELECT \n",
    "\tCOUNT(*) AS total_transactions,\n",
    "\tROUND(\t\n",
    "\t\tCAST(\t\n",
    "\t\t\tSUM(\n",
    "\t\t\t\tCASE WHEN is_fraud = true THEN 1 ELSE 0 END) AS decimal) \n",
    "\t\t\t\t/ COUNT(*), 4) *100 AS Percentage_of_fradulent_transactions, ROUND(\t\n",
    "\t\tCAST(\t\n",
    "\t\t\tSUM(\n",
    "\t\t\t\tCASE WHEN is_fraud = false THEN 1 ELSE 0 END) AS decimal) \n",
    "\t\t\t\t/ COUNT(*), 4) * 100 AS Percentage_of_non_fradulent_transactions\n",
    "FROM fraudtrain;"
   ]
  },
  {
   "attachments": {},
   "cell_type": "markdown",
   "metadata": {},
   "source": [
    "(2) How does the frequency of fraudulent transactions vary over time? Are there any specific dates or time periods with higher fraud rates?"
   ]
  },
  {
   "cell_type": "code",
   "execution_count": null,
   "metadata": {
    "vscode": {
     "languageId": "sql"
    }
   },
   "outputs": [],
   "source": [
    "SELECT \n",
    "    CAST(TO_CHAR(TO_TIMESTAMP(trans_date_trans_time, 'YYYY/MM/DD'), 'YYYY-MM-DD') AS DATE) AS date,\n",
    "    COUNT(*) AS total_transactions,\n",
    "    COUNT(CASE WHEN is_fraud = 'yes' THEN 1 END) AS fraudulent_transactions,\n",
    "    ROUND(COUNT(CASE WHEN is_fraud = 'yes' THEN 1 END) * 1.0 / COUNT(*), 4) AS percentage_fraudulent\n",
    "FROM fraudtrain\n",
    "GROUP BY date\n",
    "HAVING CAST(TO_CHAR(TO_TIMESTAMP(trans_date_trans_time, 'YYYY/MM/DD'), 'YYYY-MM-DD') AS DATE)  IS NOT NULL\n",
    "AND  COUNT(CASE WHEN is_fraud = 'yes' THEN 1 END)IS NOT NULL\n",
    "ORDER BY fraudulent_transactions DESC\n",
    "LIMIT 10;"
   ]
  },
  {
   "attachments": {},
   "cell_type": "markdown",
   "metadata": {},
   "source": [
    "(3) Which merchants have the highest number of fraudulent transactions? Can you identify any specific patterns or characteristics of these merchants?"
   ]
  },
  {
   "cell_type": "code",
   "execution_count": null,
   "metadata": {
    "vscode": {
     "languageId": "sql"
    }
   },
   "outputs": [],
   "source": [
    "SELECT merchant, COUNT(*) AS number_of_fradulent_transactions\n",
    "FROM fraudtrain\n",
    "WHERE is_fraud='yes'\n",
    "GROUP BY merchant\n",
    "ORDER BY number_of_fradulent_transactions DESC\n",
    "LIMIT 10;"
   ]
  },
  {
   "attachments": {},
   "cell_type": "markdown",
   "metadata": {},
   "source": [
    "(4) What are the most common categories of transactions associated with fraud? Are there any particular transaction categories that are more prone to fraud?"
   ]
  },
  {
   "cell_type": "code",
   "execution_count": null,
   "metadata": {
    "vscode": {
     "languageId": "sql"
    }
   },
   "outputs": [],
   "source": [
    "-- Active: 1688313602053@@127.0.0.1@5432@Credit_card_fraud\n",
    "SELECT category,COUNT(*) AS fraud_cases\n",
    "FROM fraudtrain\n",
    "WHERE is_fraud='yes'\n",
    "GROUP BY category\n",
    "ORDER BY category DESC;"
   ]
  },
  {
   "attachments": {},
   "cell_type": "markdown",
   "metadata": {},
   "source": [
    "(5) How does the average transaction amount differ between fraudulent and non-fraudulent transactions? Are there significant differences in the transaction amounts?"
   ]
  },
  {
   "cell_type": "code",
   "execution_count": null,
   "metadata": {
    "vscode": {
     "languageId": "sql"
    }
   },
   "outputs": [],
   "source": [
    "SELECT \n",
    "\t\t(SELECT ROUND(AVG(amt),2)  AS fraud_amt\n",
    "\t\t FROM fraudtrain\n",
    "\t\t WHERE is_fraud='yes'\n",
    "\t\t)  AS avg_trans_amt_of_fraud_trans,\n",
    "\t\t (SELECT ROUND(AVG(amt),2) AS non_fraud_amt\n",
    "\t\t FROM fraudtrain\n",
    "\t\t WHERE is_fraud='false') AS avg_trans_amt_of_non_fraud_trans\t\t\n",
    "FROM fraudtrain ;"
   ]
  },
  {
   "attachments": {},
   "cell_type": "markdown",
   "metadata": {},
   "source": [
    "(6) Can you identify any patterns or trends in fraudulent transactions based on demographic information such as gender, age, or location?"
   ]
  },
  {
   "cell_type": "code",
   "execution_count": null,
   "metadata": {
    "vscode": {
     "languageId": "sql"
    }
   },
   "outputs": [],
   "source": [
    "SELECT\n",
    "    ROUND(AVG(CASE WHEN is_fraud = 'yes' THEN amt ELSE 0 END),2)AS avg_trans_amt_of_fraud_trans,\n",
    "    ROUND(AVG(CASE WHEN is_fraud = 'false' THEN amt ELSE 0 END),2) AS avg_trans_amt_of_non_fraud_trans\n",
    "FROM fraudtrain;\n",
    "DROP TABLE  diff_btw_fraudlent_trans_and_non_fraudlent_trans;"
   ]
  },
  {
   "attachments": {},
   "cell_type": "markdown",
   "metadata": {},
   "source": [
    "(7)  Are there any specific locations or cities with a higher concentration of fraudulent transactions? Can you visualize this on a map?"
   ]
  },
  {
   "cell_type": "code",
   "execution_count": null,
   "metadata": {
    "vscode": {
     "languageId": "sql"
    }
   },
   "outputs": [],
   "source": [
    "SELECT gender, city, EXTRACT(YEAR FROM dob) AS year_of_birth, COUNT(*)AS num_of_fraud_cases\n",
    "FROM fraudtrain\n",
    "WHERE is_fraud= true\n",
    "GROUP BY gender,city,year_of_birth,lat,long\n",
    "ORDER BY num_of_fraud_cases DESC\n",
    "LIMIT 10;"
   ]
  },
  {
   "attachments": {},
   "cell_type": "markdown",
   "metadata": {},
   "source": [
    "(8) What are the top zip codes or states with the highest number of fraudulent transactions? How do they compare to non-fraudulent transactions?"
   ]
  },
  {
   "cell_type": "code",
   "execution_count": null,
   "metadata": {
    "vscode": {
     "languageId": "sql"
    }
   },
   "outputs": [],
   "source": [
    "SELECT city, COUNT(*) AS num_of_fraud,long,lat\n",
    "FROM fraudtrain\n",
    "WHERE is_fraud= true\n",
    "GROUP BY city,long,lat\n",
    "ORDER BY num_of_fraud DESC\n",
    "LIMIT 10;"
   ]
  },
  {
   "attachments": {},
   "cell_type": "markdown",
   "metadata": {},
   "source": [
    "(9)  Can you detect any correlations between the latitude/longitude of transactions and the likelihood of fraud? Are there specific regions that are more susceptible to fraud?"
   ]
  },
  {
   "cell_type": "code",
   "execution_count": null,
   "metadata": {
    "vscode": {
     "languageId": "sql"
    }
   },
   "outputs": [],
   "source": [
    "WITH fraud_counts AS (\n",
    "    SELECT Zip AS Zip_code, state, COUNT(*) AS num_of_fraud_cases\n",
    "    FROM fraudtrain\n",
    "    WHERE is_fraud = true AND is_fraud IS NOT NULL\n",
    "    GROUP BY Zip_code, state\n",
    ")\n",
    "\n",
    "SELECT f.Zip_code, f.state, f.num_of_fraud_cases, n.num_of_non_fraud_cases\n",
    "FROM fraud_counts f\n",
    "LEFT JOIN (\n",
    "    SELECT Zip AS Zip_code, state, COUNT(*) AS num_of_non_fraud_cases\n",
    "    FROM fraudtrain\n",
    "    WHERE is_fraud = false AND is_fraud IS NOT NULL\n",
    "    GROUP BY Zip_code, state\n",
    ") n ON f.Zip_code = n.Zip_code AND f.state = n.state\n",
    "ORDER BY f.num_of_fraud_cases DESC\n",
    "LIMIT 10;"
   ]
  },
  {
   "attachments": {},
   "cell_type": "markdown",
   "metadata": {},
   "source": [
    "(10)  Are there any specific job occupations that are more commonly associated with fraudulent transactions? Can you identify any patterns or trends in this regard?"
   ]
  },
  {
   "cell_type": "code",
   "execution_count": null,
   "metadata": {
    "vscode": {
     "languageId": "sql"
    }
   },
   "outputs": [],
   "source": [
    "SELECT job, COUNT(*) AS num_of_fraud_cases\n",
    "FROM fraudtrain\n",
    "WHERE is_fraud= true\n",
    "GROUP BY job\n",
    "ORDER BY  num_of_fraud_cases DESC;"
   ]
  },
  {
   "attachments": {},
   "cell_type": "markdown",
   "metadata": {},
   "source": [
    "(11) average fraud amount and average age"
   ]
  },
  {
   "cell_type": "code",
   "execution_count": null,
   "metadata": {
    "vscode": {
     "languageId": "sql"
    }
   },
   "outputs": [],
   "source": [
    "SELECT gender, ROUND(AVG(amt)) AS avg_fraud_amt, ROUND(AVG(EXTRACT(YEAR FROM dob)-2020) * -1) AS Avg_Age\n",
    "FROM fraudtrain\n",
    "WHERE is_fraud = true AND gender = 'M'\n",
    "GROUP BY gender\n",
    "UNION\n",
    "SELECT gender, ROUND(AVG(amt)) AS avg_fraud_amt, ROUND(AVG(EXTRACT(YEAR FROM dob)-2020)  * -1) AS Avg_Age\n",
    "FROM fraudtrain\n",
    "WHERE is_fraud = true AND gender = 'F'\n",
    "GROUP BY gender;"
   ]
  }
 ],
 "metadata": {
  "language_info": {
   "name": "python"
  },
  "orig_nbformat": 4
 },
 "nbformat": 4,
 "nbformat_minor": 2
}
